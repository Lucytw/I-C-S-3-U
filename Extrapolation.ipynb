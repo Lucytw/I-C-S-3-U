{
  "nbformat": 4,
  "nbformat_minor": 0,
  "metadata": {
    "colab": {
      "provenance": []
    },
    "kernelspec": {
      "name": "python3",
      "display_name": "Python 3"
    },
    "language_info": {
      "name": "python"
    }
  },
  "cells": [
    {
      "cell_type": "code",
      "execution_count": null,
      "metadata": {
        "id": "Xjai493JeEQl"
      },
      "outputs": [],
      "source": [
        "choose = int(input(\"you can choose 1,2 or 3 to see the popolation in 20 years, or the Bar charts and line charts\"))\n",
        "#Get the number entered by the user\n",
        "import numpy as np\n",
        "#Import the Numpy library and name it np\n",
        "import matplotlib.pyplot as plt\n",
        "#Import pyplot from the Matplotlib library and name it plt\n",
        "if choose == 1:\n",
        "the_list = [10000, 12000, 15000, 18000, 20000, 22000, 5000, 28000, 31000, 34000, 37000, 40000,43000, 46000, 49000, 52000, 55000]\n",
        "future_years = [20]\n",
        "slope, intercepy = n. polyfit (range (len (the_list)), the list, 1)\n",
        "future_ population = [slope * day + intercept for day in future_years]\n",
        "print (\"the population in 20 years: \", future _population)\n",
        "elif choose 2:\n",
        " years = np. array ([2000, 2001, 2002, 2003, 2004, 2005, 2006, 2007, 2008, 2009, 2010, 2011, 2012, 2013, 2014, 2015, 2016, 2017,2018，2019，\n",
        " population = m. array ([10000, 12000, 15000, 18000, 20000, 22000, 25000, 28000, 31000, 34000, 37000, 40000, 43000, 46000, 49000, 52000\n",
        "\n",
        " plt.bar(Years, population)\n",
        " pIt.xlabel ('Years')\n",
        " ply,ylabel ('population')\n",
        " pit.show()\n",
        "\n",
        "elif choose = 3:\n",
        "years = np. array ([2000, 2001, 2002, 2003, 2004, 2005, 2006, 2007, 2008, 2009, 2010, 2011, 2012, 2013, 2014, 2015, 2016, 2017, 2018, 2019\n",
        "population = np.array ([10000, 12000, 15000, 18000, 20000,  22000, 25000, 28000, 31000, 34000, 37000; 40000, 43000, 46000, 49000, 52000,\n",
        "pit. xlabel ('Year')\n",
        "p1t. ylabel ('Population')\n",
        "p1t. plot (years, population)\n",
        "\n",
        "else:\n",
        "print(\"please choose again.\")"
      ]
    }
  ]
}